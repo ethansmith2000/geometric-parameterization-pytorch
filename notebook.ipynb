{
 "cells": [
  {
   "cell_type": "code",
   "execution_count": 1,
   "metadata": {},
   "outputs": [],
   "source": [
    "from geo_param_torch import GeoLinear, GeoLinear1D, GeoConv2d\n",
    "import torch"
   ]
  },
  {
   "cell_type": "code",
   "execution_count": 2,
   "metadata": {},
   "outputs": [],
   "source": [
    "geo_linear = GeoLinear(5,20)\n",
    "geo_linear1d = GeoLinear1D(20)\n",
    "geo_conv2d = GeoConv2d(3, 10, 3, 1, 1)"
   ]
  },
  {
   "cell_type": "code",
   "execution_count": 3,
   "metadata": {},
   "outputs": [],
   "source": [
    "geo_inp = torch.randn(5,5)\n",
    "geo_1d_inp = torch.randn(5,1)\n",
    "geo_conv_inp = torch.randn(1,3,5,5)\n",
    "\n",
    "geo_out = geo_linear(geo_inp)\n",
    "geo_1d_out = geo_linear1d(geo_1d_inp)\n",
    "geo_conv_out = geo_conv2d(geo_conv_inp)"
   ]
  },
  {
   "cell_type": "code",
   "execution_count": 4,
   "metadata": {},
   "outputs": [],
   "source": [
    "device = \"cuda\"\n",
    "geo_linear = geo_linear.to(device)\n",
    "geo_linear1d = geo_linear1d.to(device)\n",
    "geo_conv2d = geo_conv2d.to(device)\n",
    "\n",
    "geo_inp = torch.randn(5,5).to(device)\n",
    "geo_1d_inp = torch.randn(5,1).to(device)\n",
    "geo_conv_inp = torch.randn(1,3,5,5).to(device)\n",
    "\n",
    "geo_out = geo_linear(geo_inp)\n",
    "geo_1d_out = geo_linear1d(geo_1d_inp)\n",
    "geo_conv_out = geo_conv2d(geo_conv_inp)"
   ]
  },
  {
   "cell_type": "code",
   "execution_count": 5,
   "metadata": {},
   "outputs": [],
   "source": [
    "dtype = torch.float16\n",
    "geo_linear = geo_linear.to(dtype)\n",
    "geo_linear1d = geo_linear1d.to(dtype)\n",
    "geo_conv2d = geo_conv2d.to(dtype)\n",
    "\n",
    "geo_inp = torch.randn(5,5).to(device).to(dtype)\n",
    "geo_1d_inp = torch.randn(5,1).to(device).to(dtype)\n",
    "geo_conv_inp = torch.randn(1,3,5,5).to(device).to(dtype)\n",
    "\n",
    "geo_out = geo_linear(geo_inp)\n",
    "geo_1d_out = geo_linear1d(geo_1d_inp)\n",
    "geo_conv_out = geo_conv2d(geo_conv_inp)"
   ]
  },
  {
   "cell_type": "code",
   "execution_count": null,
   "metadata": {},
   "outputs": [],
   "source": []
  }
 ],
 "metadata": {
  "kernelspec": {
   "display_name": "base",
   "language": "python",
   "name": "python3"
  },
  "language_info": {
   "codemirror_mode": {
    "name": "ipython",
    "version": 3
   },
   "file_extension": ".py",
   "mimetype": "text/x-python",
   "name": "python",
   "nbconvert_exporter": "python",
   "pygments_lexer": "ipython3",
   "version": "3.11.5"
  }
 },
 "nbformat": 4,
 "nbformat_minor": 2
}
